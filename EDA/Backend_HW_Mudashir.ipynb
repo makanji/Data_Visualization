{
 "cells": [
  {
   "cell_type": "code",
   "execution_count": 15,
   "id": "ca90657d",
   "metadata": {},
   "outputs": [],
   "source": [
    "#exercise 1\n",
    "class Restaurant:\n",
    "    def __init__(self, name, cuisine_type):\n",
    "        #defining class to my assigned attributes\n",
    "        self.name = name\n",
    "        self.cuisine_type = cuisine_type\n",
    "        #defining method for the specific solutions\n",
    "    def describe_restaurant(self):\n",
    "            print(f\"{self.name}, in the city of UK have the best {self.cuisine_type}\")\n",
    "    def open_restaurant(self):\n",
    "            print(f\"{self.name}, in now open in the city of UK \\n They have the best {self.cuisine_type} ever\")"
   ]
  },
  {
   "cell_type": "code",
   "execution_count": 22,
   "id": "3da6f980",
   "metadata": {},
   "outputs": [
    {
     "name": "stdout",
     "output_type": "stream",
     "text": [
      "manchester_reataurant, in the city of UK have the best pizza\n"
     ]
    }
   ],
   "source": [
    "kay.describe_restaurant()"
   ]
  },
  {
   "cell_type": "code",
   "execution_count": 25,
   "id": "21960fae",
   "metadata": {},
   "outputs": [
    {
     "name": "stdout",
     "output_type": "stream",
     "text": [
      "manchester_reataurant, in now open in the city of UK \n",
      " They have the best pizza ever\n"
     ]
    }
   ],
   "source": [
    "kay.open_restaurant()"
   ]
  },
  {
   "cell_type": "code",
   "execution_count": 26,
   "id": "a5013ccd",
   "metadata": {},
   "outputs": [],
   "source": [
    "#three trestaurant exercise\n",
    "kay = Restaurant('freigiest', ' coffee')"
   ]
  },
  {
   "cell_type": "code",
   "execution_count": null,
   "id": "a7e9eef5",
   "metadata": {},
   "outputs": [],
   "source": []
  }
 ],
 "metadata": {
  "kernelspec": {
   "display_name": "Python 3 (ipykernel)",
   "language": "python",
   "name": "python3"
  },
  "language_info": {
   "codemirror_mode": {
    "name": "ipython",
    "version": 3
   },
   "file_extension": ".py",
   "mimetype": "text/x-python",
   "name": "python",
   "nbconvert_exporter": "python",
   "pygments_lexer": "ipython3",
   "version": "3.8.12"
  },
  "latex_envs": {
   "LaTeX_envs_menu_present": true,
   "autoclose": true,
   "autocomplete": true,
   "bibliofile": "biblio.bib",
   "cite_by": "apalike",
   "current_citInitial": 1,
   "eqLabelWithNumbers": true,
   "eqNumInitial": 1,
   "hotkeys": {
    "equation": "Ctrl-E",
    "itemize": "Ctrl-I"
   },
   "labels_anchors": false,
   "latex_user_defs": false,
   "report_style_numbering": false,
   "user_envs_cfg": false
  },
  "toc": {
   "base_numbering": 1,
   "nav_menu": {},
   "number_sections": true,
   "sideBar": true,
   "skip_h1_title": false,
   "title_cell": "Table of Contents",
   "title_sidebar": "Contents",
   "toc_cell": false,
   "toc_position": {},
   "toc_section_display": true,
   "toc_window_display": false
  },
  "varInspector": {
   "cols": {
    "lenName": 16,
    "lenType": 16,
    "lenVar": 40
   },
   "kernels_config": {
    "python": {
     "delete_cmd_postfix": "",
     "delete_cmd_prefix": "del ",
     "library": "var_list.py",
     "varRefreshCmd": "print(var_dic_list())"
    },
    "r": {
     "delete_cmd_postfix": ") ",
     "delete_cmd_prefix": "rm(",
     "library": "var_list.r",
     "varRefreshCmd": "cat(var_dic_list()) "
    }
   },
   "types_to_exclude": [
    "module",
    "function",
    "builtin_function_or_method",
    "instance",
    "_Feature"
   ],
   "window_display": false
  }
 },
 "nbformat": 4,
 "nbformat_minor": 5
}
