{
 "cells": [
  {
   "cell_type": "code",
   "execution_count": 33,
   "id": "9f30539f",
   "metadata": {},
   "outputs": [],
   "source": [
    "##data preparation\n",
    "from keras.datasets import mnist\n",
    "from keras.utils import to_categorical #this one hot encorder use to  split labels into different class\n",
    "#this majorly used when we have different class more than 2 to classify into"
   ]
  },
  {
   "cell_type": "code",
   "execution_count": 73,
   "id": "d48415ef",
   "metadata": {},
   "outputs": [],
   "source": [
    "#datasets importation\n",
    "(train_images, train_labels), (test_images, test_labels)   =  mnist.load_data()"
   ]
  },
  {
   "cell_type": "code",
   "execution_count": 91,
   "id": "91a5c6fa",
   "metadata": {},
   "outputs": [
    {
     "data": {
      "text/plain": [
       "(0.003921569, 0.0, 0.0, 0.003921569)"
      ]
     },
     "execution_count": 91,
     "metadata": {},
     "output_type": "execute_result"
    }
   ],
   "source": [
    "train_images.max(), train_images.min(), test_images.min(), test_images.max()"
   ]
  },
  {
   "cell_type": "code",
   "execution_count": 37,
   "id": "1090153a",
   "metadata": {},
   "outputs": [],
   "source": [
    "#rescalling image to set images into binary format 0 and 1\n",
    "#reshaping datasets to 4D tensor "
   ]
  },
  {
   "cell_type": "code",
   "execution_count": 82,
   "id": "874027f4",
   "metadata": {},
   "outputs": [],
   "source": [
    "#train_images\n",
    "train_images = train_images.reshape(-1,28,28,1)\n",
    "train_images = train_images.astype('float32') / 255\n",
    "#test images \n",
    "test_images = test_images.reshape (10000, 28, 28, 1)\n",
    "#test_images = test_images/255.0 # this convert the parameters into float 64\n",
    "\n",
    "test_images = test_images.astype('float32')/255"
   ]
  },
  {
   "cell_type": "code",
   "execution_count": 76,
   "id": "d6fbca69",
   "metadata": {},
   "outputs": [],
   "source": [
    "#Encoding labels into categories\n",
    "test_labels = to_categorical(test_labels)\n",
    "train_labels = to_categorical(train_labels) # number of categories"
   ]
  },
  {
   "cell_type": "code",
   "execution_count": 83,
   "id": "946fb6a5",
   "metadata": {},
   "outputs": [
    {
     "data": {
      "text/plain": [
       "((60000, 10), (10000, 10), (60000, 28, 28, 1), (10000, 28, 28, 1))"
      ]
     },
     "execution_count": 83,
     "metadata": {},
     "output_type": "execute_result"
    }
   ],
   "source": [
    "train_labels.shape, test_labels.shape, train_images.shape, test_images.shape"
   ]
  },
  {
   "cell_type": "code",
   "execution_count": 80,
   "id": "d5f2c796",
   "metadata": {},
   "outputs": [],
   "source": [
    "# preparing library and models\n",
    "from keras import layers\n",
    "from keras import models\n"
   ]
  },
  {
   "cell_type": "code",
   "execution_count": 84,
   "id": "50dd4359",
   "metadata": {},
   "outputs": [],
   "source": [
    "#model definition convulution layer\n",
    "model = models.Sequential()\n",
    "model.add(layers.Conv2D(32, (3, 3), activation='relu', input_shape=(28, 28, 1)))\n",
    "model.add(layers.MaxPooling2D((2, 2)))\n",
    "model.add(layers.Conv2D(64, (3, 3), activation='relu'))\n",
    "model.add(layers.MaxPooling2D((2, 2)))\n",
    "model.add(layers.Conv2D(64, (3, 3), activation='relu'))\n"
   ]
  },
  {
   "cell_type": "code",
   "execution_count": 85,
   "id": "64727b28",
   "metadata": {},
   "outputs": [],
   "source": [
    "#flatten layers converts 2d into 1D\n",
    "#adding classifier to the model\n",
    "model.add(layers.Flatten())\n",
    "model.add(layers.Dense(64, activation ='relu'))\n",
    "model.add(layers.Dense(10, activation = 'softmax'))"
   ]
  },
  {
   "cell_type": "code",
   "execution_count": 67,
   "id": "fa9b7f66",
   "metadata": {},
   "outputs": [
    {
     "name": "stdout",
     "output_type": "stream",
     "text": [
      "Model: \"sequential_1\"\n",
      "_________________________________________________________________\n",
      "Layer (type)                 Output Shape              Param #   \n",
      "=================================================================\n",
      "conv2d_3 (Conv2D)            (None, 26, 26, 32)        320       \n",
      "_________________________________________________________________\n",
      "max_pooling2d_2 (MaxPooling2 (None, 13, 13, 32)        0         \n",
      "_________________________________________________________________\n",
      "conv2d_4 (Conv2D)            (None, 11, 11, 64)        18496     \n",
      "_________________________________________________________________\n",
      "max_pooling2d_3 (MaxPooling2 (None, 5, 5, 64)          0         \n",
      "_________________________________________________________________\n",
      "conv2d_5 (Conv2D)            (None, 3, 3, 64)          36928     \n",
      "_________________________________________________________________\n",
      "flatten_1 (Flatten)          (None, 576)               0         \n",
      "_________________________________________________________________\n",
      "dense_2 (Dense)              (None, 64)                36928     \n",
      "_________________________________________________________________\n",
      "dense_3 (Dense)              (None, 10)                650       \n",
      "=================================================================\n",
      "Total params: 93,322\n",
      "Trainable params: 93,322\n",
      "Non-trainable params: 0\n",
      "_________________________________________________________________\n"
     ]
    }
   ],
   "source": [
    "model.summary()"
   ]
  },
  {
   "cell_type": "code",
   "execution_count": 88,
   "id": "baf95fd4",
   "metadata": {},
   "outputs": [],
   "source": [
    "# defining the model compiler\n",
    "model.compile(optimizer = 'rmsprop', loss = 'categorical_crossentropy', metrics = ['accuracy'])"
   ]
  },
  {
   "cell_type": "code",
   "execution_count": 89,
   "id": "18c12c88",
   "metadata": {},
   "outputs": [
    {
     "name": "stdout",
     "output_type": "stream",
     "text": [
      "Epoch 1/5\n",
      "469/469 [==============================] - 49s 104ms/step - loss: 1.3347 - accuracy: 0.5452\n",
      "Epoch 2/5\n",
      "469/469 [==============================] - 48s 102ms/step - loss: 0.3874 - accuracy: 0.8822\n",
      "Epoch 3/5\n",
      "469/469 [==============================] - 48s 102ms/step - loss: 0.2150 - accuracy: 0.9332\n",
      "Epoch 4/5\n",
      "469/469 [==============================] - 50s 106ms/step - loss: 0.1353 - accuracy: 0.9577\n",
      "Epoch 5/5\n",
      "469/469 [==============================] - 53s 112ms/step - loss: 0.0991 - accuracy: 0.9695\n"
     ]
    },
    {
     "data": {
      "text/plain": [
       "<tensorflow.python.keras.callbacks.History at 0x1d4035703a0>"
      ]
     },
     "execution_count": 89,
     "metadata": {},
     "output_type": "execute_result"
    }
   ],
   "source": [
    "#training my model according to my CNN\n",
    "model.fit(train_images, train_labels, epochs = 5, batch_size = 128)"
   ]
  },
  {
   "cell_type": "code",
   "execution_count": 90,
   "id": "c28bda9b",
   "metadata": {},
   "outputs": [
    {
     "name": "stdout",
     "output_type": "stream",
     "text": [
      "313/313 [==============================] - 3s 9ms/step - loss: 0.0758 - accuracy: 0.9753\n"
     ]
    }
   ],
   "source": [
    "test_loss, test_acc = model.evaluate(test_images, test_labels)"
   ]
  },
  {
   "cell_type": "code",
   "execution_count": 92,
   "id": "43dec727",
   "metadata": {},
   "outputs": [
    {
     "name": "stdout",
     "output_type": "stream",
     "text": [
      "313/313 [==============================] - 4s 13ms/step - loss: 0.0758 - accuracy: 0.9753\n"
     ]
    }
   ],
   "source": [
    "#lets evaluate our model\n",
    "test_loss, test_acc = model.evaluate(test_images, test_labels)"
   ]
  },
  {
   "cell_type": "code",
   "execution_count": 61,
   "id": "e5dfeaf1",
   "metadata": {},
   "outputs": [
    {
     "data": {
      "text/plain": [
       "((10000, 28, 28, 1), (10000, 10))"
      ]
     },
     "execution_count": 61,
     "metadata": {},
     "output_type": "execute_result"
    }
   ],
   "source": [
    "test_images.shape, test_labels.shape\n"
   ]
  },
  {
   "cell_type": "code",
   "execution_count": 63,
   "id": "a657c32a",
   "metadata": {},
   "outputs": [
    {
     "data": {
      "text/plain": [
       "0.11349999904632568"
      ]
     },
     "execution_count": 63,
     "metadata": {},
     "output_type": "execute_result"
    }
   ],
   "source": [
    "test_acc"
   ]
  },
  {
   "cell_type": "code",
   "execution_count": 70,
   "id": "e814e33b",
   "metadata": {},
   "outputs": [
    {
     "name": "stdout",
     "output_type": "stream",
     "text": [
      "Epoch 1/5\n",
      "469/469 [==============================] - 53s 112ms/step - loss: 0.2348 - accuracy: 0.9264\n",
      "Epoch 2/5\n",
      "469/469 [==============================] - 62s 131ms/step - loss: 0.0530 - accuracy: 0.9840\n",
      "Epoch 3/5\n",
      "469/469 [==============================] - 54s 116ms/step - loss: 0.0363 - accuracy: 0.9893\n",
      "Epoch 4/5\n",
      "469/469 [==============================] - 52s 111ms/step - loss: 0.0274 - accuracy: 0.9914\n",
      "Epoch 5/5\n",
      "469/469 [==============================] - 52s 110ms/step - loss: 0.0205 - accuracy: 0.9938\n"
     ]
    },
    {
     "data": {
      "text/plain": [
       "<tensorflow.python.keras.callbacks.History at 0x1d40f864a90>"
      ]
     },
     "execution_count": 70,
     "metadata": {},
     "output_type": "execute_result"
    }
   ],
   "source": [
    "train_images = train_images.reshape((60000, 28, 28, 1))\n",
    "train_images = train_images.astype('float32') / 255\n",
    "test_images = test_images.reshape((10000, 28, 28, 1))\n",
    "test_images = test_images.astype('float32') / 255\n",
    "train_labels = to_categorical(train_labels)\n",
    "test_labels = to_categorical(test_labels)\n",
    "model.compile(optimizer='rmsprop',\n",
    "loss='categorical_crossentropy',\n",
    "metrics=['accuracy'])\n",
    "\n",
    "model.fit(train_images, train_labels, epochs=5, batch_size=128 )"
   ]
  },
  {
   "cell_type": "code",
   "execution_count": null,
   "id": "719e0f0d",
   "metadata": {},
   "outputs": [],
   "source": []
  }
 ],
 "metadata": {
  "kernelspec": {
   "display_name": "Python 3 (ipykernel)",
   "language": "python",
   "name": "python3"
  },
  "language_info": {
   "codemirror_mode": {
    "name": "ipython",
    "version": 3
   },
   "file_extension": ".py",
   "mimetype": "text/x-python",
   "name": "python",
   "nbconvert_exporter": "python",
   "pygments_lexer": "ipython3",
   "version": "3.8.12"
  },
  "latex_envs": {
   "LaTeX_envs_menu_present": true,
   "autoclose": true,
   "autocomplete": true,
   "bibliofile": "biblio.bib",
   "cite_by": "apalike",
   "current_citInitial": 1,
   "eqLabelWithNumbers": true,
   "eqNumInitial": 1,
   "hotkeys": {
    "equation": "Ctrl-E",
    "itemize": "Ctrl-I"
   },
   "labels_anchors": false,
   "latex_user_defs": false,
   "report_style_numbering": false,
   "user_envs_cfg": false
  },
  "toc": {
   "base_numbering": 1,
   "nav_menu": {},
   "number_sections": true,
   "sideBar": true,
   "skip_h1_title": false,
   "title_cell": "Table of Contents",
   "title_sidebar": "Contents",
   "toc_cell": false,
   "toc_position": {},
   "toc_section_display": true,
   "toc_window_display": false
  },
  "varInspector": {
   "cols": {
    "lenName": 16,
    "lenType": 16,
    "lenVar": 40
   },
   "kernels_config": {
    "python": {
     "delete_cmd_postfix": "",
     "delete_cmd_prefix": "del ",
     "library": "var_list.py",
     "varRefreshCmd": "print(var_dic_list())"
    },
    "r": {
     "delete_cmd_postfix": ") ",
     "delete_cmd_prefix": "rm(",
     "library": "var_list.r",
     "varRefreshCmd": "cat(var_dic_list()) "
    }
   },
   "types_to_exclude": [
    "module",
    "function",
    "builtin_function_or_method",
    "instance",
    "_Feature"
   ],
   "window_display": false
  }
 },
 "nbformat": 4,
 "nbformat_minor": 5
}
